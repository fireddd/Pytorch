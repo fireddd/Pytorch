{
  "nbformat": 4,
  "nbformat_minor": 0,
  "metadata": {
    "colab": {
      "name": "pytorchlinreg.ipynb",
      "version": "0.3.2",
      "provenance": []
    },
    "kernelspec": {
      "name": "python3",
      "display_name": "Python 3"
    },
    "accelerator": "GPU"
  },
  "cells": [
    {
      "metadata": {
        "id": "gbb1Bqb4OGr4",
        "colab_type": "code",
        "colab": {}
      },
      "cell_type": "code",
      "source": [
        "x_values= [i for i in range(11)]"
      ],
      "execution_count": 0,
      "outputs": []
    },
    {
      "metadata": {
        "id": "yvFjHZJgPRKg",
        "colab_type": "code",
        "colab": {}
      },
      "cell_type": "code",
      "source": [
        "import numpy as np"
      ],
      "execution_count": 0,
      "outputs": []
    },
    {
      "metadata": {
        "id": "FffUkQO4PQh0",
        "colab_type": "code",
        "colab": {}
      },
      "cell_type": "code",
      "source": [
        ""
      ],
      "execution_count": 0,
      "outputs": []
    },
    {
      "metadata": {
        "id": "8wuLiC-EOI7s",
        "colab_type": "code",
        "colab": {
          "base_uri": "https://localhost:8080/",
          "height": 34
        },
        "outputId": "5078be03-0580-4100-9001-4eef444467f8"
      },
      "cell_type": "code",
      "source": [
        "x_values"
      ],
      "execution_count": 3,
      "outputs": [
        {
          "output_type": "execute_result",
          "data": {
            "text/plain": [
              "[0, 1, 2, 3, 4, 5, 6, 7, 8, 9, 10]"
            ]
          },
          "metadata": {
            "tags": []
          },
          "execution_count": 3
        }
      ]
    },
    {
      "metadata": {
        "id": "whUuGs3fO-yM",
        "colab_type": "code",
        "colab": {}
      },
      "cell_type": "code",
      "source": [
        "x_train=np.array(x_values,dtype=np.float32)"
      ],
      "execution_count": 0,
      "outputs": []
    },
    {
      "metadata": {
        "id": "pOPTLCyfPaWb",
        "colab_type": "code",
        "colab": {
          "base_uri": "https://localhost:8080/",
          "height": 34
        },
        "outputId": "a1e780f4-85b4-453d-cb9d-2d8c3b61bcee"
      },
      "cell_type": "code",
      "source": [
        "print(x_train.shape)"
      ],
      "execution_count": 6,
      "outputs": [
        {
          "output_type": "stream",
          "text": [
            "(11,)\n"
          ],
          "name": "stdout"
        }
      ]
    },
    {
      "metadata": {
        "id": "Aq36Id5kPg7r",
        "colab_type": "code",
        "colab": {}
      },
      "cell_type": "code",
      "source": [
        "x_train=x_train.reshape(-1,1)"
      ],
      "execution_count": 0,
      "outputs": []
    },
    {
      "metadata": {
        "id": "SYuqoo-4PlMQ",
        "colab_type": "code",
        "colab": {
          "base_uri": "https://localhost:8080/",
          "height": 34
        },
        "outputId": "ef82da10-0c50-4849-c136-d9f65232bff1"
      },
      "cell_type": "code",
      "source": [
        "print(x_train.shape)"
      ],
      "execution_count": 8,
      "outputs": [
        {
          "output_type": "stream",
          "text": [
            "(11, 1)\n"
          ],
          "name": "stdout"
        }
      ]
    },
    {
      "metadata": {
        "id": "KQduBXalPoWX",
        "colab_type": "code",
        "colab": {}
      },
      "cell_type": "code",
      "source": [
        "y_values=[2*x+1 for x in x_values]"
      ],
      "execution_count": 0,
      "outputs": []
    },
    {
      "metadata": {
        "id": "_vW0OoEWPxfq",
        "colab_type": "code",
        "colab": {
          "base_uri": "https://localhost:8080/",
          "height": 34
        },
        "outputId": "035d1d24-3c8d-4f81-f8a5-10792d3ff9c5"
      },
      "cell_type": "code",
      "source": [
        "print(y_values)"
      ],
      "execution_count": 14,
      "outputs": [
        {
          "output_type": "stream",
          "text": [
            "[1, 3, 5, 7, 9, 11, 13, 15, 17, 19, 21]\n"
          ],
          "name": "stdout"
        }
      ]
    },
    {
      "metadata": {
        "id": "UgLxS45DP3R9",
        "colab_type": "code",
        "colab": {
          "base_uri": "https://localhost:8080/",
          "height": 166
        },
        "outputId": "21b9f89f-8d17-405f-f3e0-4dd76a760ebe"
      },
      "cell_type": "code",
      "source": [
        "print(y_values.shape)"
      ],
      "execution_count": 15,
      "outputs": [
        {
          "output_type": "error",
          "ename": "AttributeError",
          "evalue": "ignored",
          "traceback": [
            "\u001b[0;31m---------------------------------------------------------------------------\u001b[0m",
            "\u001b[0;31mAttributeError\u001b[0m                            Traceback (most recent call last)",
            "\u001b[0;32m<ipython-input-15-c7781559577b>\u001b[0m in \u001b[0;36m<module>\u001b[0;34m()\u001b[0m\n\u001b[0;32m----> 1\u001b[0;31m \u001b[0mprint\u001b[0m\u001b[0;34m(\u001b[0m\u001b[0my_values\u001b[0m\u001b[0;34m.\u001b[0m\u001b[0mshape\u001b[0m\u001b[0;34m)\u001b[0m\u001b[0;34m\u001b[0m\u001b[0m\n\u001b[0m",
            "\u001b[0;31mAttributeError\u001b[0m: 'list' object has no attribute 'shape'"
          ]
        }
      ]
    },
    {
      "metadata": {
        "id": "5_GhKcDAQDTl",
        "colab_type": "code",
        "colab": {}
      },
      "cell_type": "code",
      "source": [
        "y_train=np.array(y_values,dtype=np.float32)"
      ],
      "execution_count": 0,
      "outputs": []
    },
    {
      "metadata": {
        "id": "Kl-5nSLNQr46",
        "colab_type": "code",
        "colab": {}
      },
      "cell_type": "code",
      "source": [
        "y_train=y_train.reshape(-1,1)"
      ],
      "execution_count": 0,
      "outputs": []
    },
    {
      "metadata": {
        "id": "mDU6ZGvWQyCB",
        "colab_type": "code",
        "colab": {
          "base_uri": "https://localhost:8080/",
          "height": 332
        },
        "outputId": "491a08da-70aa-4210-a07a-8c3b66df467d"
      },
      "cell_type": "code",
      "source": [
        "!pip install torchvision"
      ],
      "execution_count": 18,
      "outputs": [
        {
          "output_type": "stream",
          "text": [
            "Collecting torchvision\n",
            "\u001b[?25l  Downloading https://files.pythonhosted.org/packages/ca/0d/f00b2885711e08bd71242ebe7b96561e6f6d01fdb4b9dcf4d37e2e13c5e1/torchvision-0.2.1-py2.py3-none-any.whl (54kB)\n",
            "\u001b[K    100% |████████████████████████████████| 61kB 2.7MB/s \n",
            "\u001b[?25hCollecting torch (from torchvision)\n",
            "\u001b[?25l  Downloading https://files.pythonhosted.org/packages/49/0e/e382bcf1a6ae8225f50b99cc26effa2d4cc6d66975ccf3fa9590efcbedce/torch-0.4.1-cp36-cp36m-manylinux1_x86_64.whl (519.5MB)\n",
            "\u001b[K    100% |████████████████████████████████| 519.5MB 30kB/s \n",
            "tcmalloc: large alloc 1073750016 bytes == 0x59a5a000 @  0x7f8c363822a4 0x594e17 0x626104 0x51190a 0x4f5277 0x510c78 0x5119bd 0x4f5277 0x4f3338 0x510fb0 0x5119bd 0x4f5277 0x4f3338 0x510fb0 0x5119bd 0x4f5277 0x4f3338 0x510fb0 0x5119bd 0x4f6070 0x510c78 0x5119bd 0x4f5277 0x4f3338 0x510fb0 0x5119bd 0x4f6070 0x4f3338 0x510fb0 0x5119bd 0x4f6070\n",
            "\u001b[?25hCollecting pillow>=4.1.1 (from torchvision)\n",
            "\u001b[?25l  Downloading https://files.pythonhosted.org/packages/62/94/5430ebaa83f91cc7a9f687ff5238e26164a779cca2ef9903232268b0a318/Pillow-5.3.0-cp36-cp36m-manylinux1_x86_64.whl (2.0MB)\n",
            "\u001b[K    100% |████████████████████████████████| 2.0MB 3.4MB/s \n",
            "\u001b[?25hRequirement already satisfied: numpy in /usr/local/lib/python3.6/dist-packages (from torchvision) (1.14.6)\n",
            "Requirement already satisfied: six in /usr/local/lib/python3.6/dist-packages (from torchvision) (1.11.0)\n",
            "Installing collected packages: torch, pillow, torchvision\n",
            "  Found existing installation: Pillow 4.0.0\n",
            "    Uninstalling Pillow-4.0.0:\n",
            "      Successfully uninstalled Pillow-4.0.0\n",
            "Successfully installed pillow-5.3.0 torch-0.4.1 torchvision-0.2.1\n"
          ],
          "name": "stdout"
        }
      ]
    },
    {
      "metadata": {
        "id": "BuMpA-FCQ2VZ",
        "colab_type": "code",
        "colab": {}
      },
      "cell_type": "code",
      "source": [
        "import torch\n",
        "import torch.nn as nn\n",
        "from torch.autograd import Variable"
      ],
      "execution_count": 0,
      "outputs": []
    },
    {
      "metadata": {
        "id": "yPpJDSZmRIdv",
        "colab_type": "code",
        "colab": {}
      },
      "cell_type": "code",
      "source": [
        "class LinearRegressio(nn.Module):\n",
        "  def __init__(self,input_size,output_size):\n",
        "    super(LinearRegressio,self).__init__()\n",
        "    self.linear = nn.Linear(input_dim,output_dim)\n",
        "  def forward(self,x):\n",
        "    out=self.linear(x)\n",
        "    return out\n",
        "  "
      ],
      "execution_count": 0,
      "outputs": []
    },
    {
      "metadata": {
        "id": "PzMPBgOmStn4",
        "colab_type": "code",
        "colab": {}
      },
      "cell_type": "code",
      "source": [
        "input_dim=1\n",
        "output_dim=1\n",
        "model = LinearRegressio(input_dim,output_dim)"
      ],
      "execution_count": 0,
      "outputs": []
    },
    {
      "metadata": {
        "id": "PEe6Su62T7_A",
        "colab_type": "code",
        "colab": {}
      },
      "cell_type": "code",
      "source": [
        "criterion=nn.MSELoss()"
      ],
      "execution_count": 0,
      "outputs": []
    },
    {
      "metadata": {
        "id": "dZsXCZMtUAjU",
        "colab_type": "code",
        "colab": {}
      },
      "cell_type": "code",
      "source": [
        "learning_rate=0.01\n",
        "\n",
        "optimizer=torch.optim.SGD(model.parameters(),lr=learning_rate)"
      ],
      "execution_count": 0,
      "outputs": []
    },
    {
      "metadata": {
        "id": "nmbDJarlUSvd",
        "colab_type": "code",
        "colab": {}
      },
      "cell_type": "code",
      "source": [
        "epochs=100"
      ],
      "execution_count": 0,
      "outputs": []
    },
    {
      "metadata": {
        "id": "Ou3sCX03UWRo",
        "colab_type": "code",
        "colab": {
          "base_uri": "https://localhost:8080/",
          "height": 1808
        },
        "outputId": "265f7c87-7926-4097-d59a-aa41d717a67d"
      },
      "cell_type": "code",
      "source": [
        "for epoch in range(epochs):\n",
        "  epoch=epoch+1\n",
        "  inputs=Variable(torch.from_numpy(x_train))\n",
        "  labels=Variable(torch.from_numpy(y_train))\n",
        "  optimizer.zero_grad()\n",
        "  outputs=model(inputs)\n",
        "  loss=criterion(outputs,labels)\n",
        "  loss.backward()\n",
        "  optimizer.step()\n",
        "  print(\"epoch {} loss {} \".format(epoch,loss.data[0]))\n",
        "  "
      ],
      "execution_count": 25,
      "outputs": [
        {
          "output_type": "stream",
          "text": [
            "epoch 1 loss 353.1370544433594 \n",
            "epoch 2 loss 29.386287689208984 \n",
            "epoch 3 loss 2.9724602699279785 \n",
            "epoch 4 loss 0.8115407824516296 \n",
            "epoch 5 loss 0.6289262175559998 \n",
            "epoch 6 loss 0.6077472567558289 \n",
            "epoch 7 loss 0.5998057126998901 \n",
            "epoch 8 loss 0.5930138826370239 \n",
            "epoch 9 loss 0.586384117603302 \n",
            "epoch 10 loss 0.5798351764678955 \n",
            "epoch 11 loss 0.5733603835105896 \n",
            "epoch 12 loss 0.5669577717781067 \n",
            "epoch 13 loss 0.5606265068054199 \n",
            "epoch 14 loss 0.5543663501739502 \n",
            "epoch 15 loss 0.5481754541397095 \n",
            "epoch 16 loss 0.5420541167259216 \n",
            "epoch 17 loss 0.5360012054443359 \n",
            "epoch 18 loss 0.5300160646438599 \n",
            "epoch 19 loss 0.5240972638130188 \n",
            "epoch 20 loss 0.5182448029518127 \n",
            "epoch 21 loss 0.5124574303627014 \n",
            "epoch 22 loss 0.5067346692085266 \n",
            "epoch 23 loss 0.5010761618614197 \n",
            "epoch 24 loss 0.49548104405403137 \n",
            "epoch 25 loss 0.48994797468185425 \n",
            "epoch 26 loss 0.484476774930954 \n",
            "epoch 27 loss 0.47906675934791565 \n",
            "epoch 28 loss 0.4737171530723572 \n",
            "epoch 29 loss 0.4684271514415741 \n",
            "epoch 30 loss 0.46319615840911865 \n",
            "epoch 31 loss 0.45802411437034607 \n",
            "epoch 32 loss 0.45290908217430115 \n",
            "epoch 33 loss 0.4478517472743988 \n",
            "epoch 34 loss 0.4428505003452301 \n",
            "epoch 35 loss 0.43790534138679504 \n",
            "epoch 36 loss 0.43301522731781006 \n",
            "epoch 37 loss 0.42817991971969604 \n",
            "epoch 38 loss 0.42339828610420227 \n",
            "epoch 39 loss 0.4186701774597168 \n",
            "epoch 40 loss 0.4139949083328247 \n",
            "epoch 41 loss 0.4093722105026245 \n",
            "epoch 42 loss 0.40480053424835205 \n",
            "epoch 43 loss 0.4002803862094879 \n",
            "epoch 44 loss 0.39581021666526794 \n",
            "epoch 45 loss 0.3913903534412384 \n",
            "epoch 46 loss 0.3870200514793396 \n",
            "epoch 47 loss 0.38269829750061035 \n",
            "epoch 48 loss 0.37842458486557007 \n",
            "epoch 49 loss 0.3741986155509949 \n",
            "epoch 50 loss 0.37002044916152954 \n",
            "epoch 51 loss 0.3658882677555084 \n",
            "epoch 52 loss 0.3618025481700897 \n",
            "epoch 53 loss 0.35776230692863464 \n",
            "epoch 54 loss 0.3537669777870178 \n",
            "epoch 55 loss 0.34981682896614075 \n",
            "epoch 56 loss 0.3459104895591736 \n",
            "epoch 57 loss 0.34204742312431335 \n",
            "epoch 58 loss 0.3382279872894287 \n",
            "epoch 59 loss 0.33445119857788086 \n",
            "epoch 60 loss 0.3307160437107086 \n",
            "epoch 61 loss 0.32702311873435974 \n",
            "epoch 62 loss 0.3233714997768402 \n",
            "epoch 63 loss 0.31976059079170227 \n",
            "epoch 64 loss 0.3161897361278534 \n",
            "epoch 65 loss 0.31265905499458313 \n",
            "epoch 66 loss 0.30916735529899597 \n",
            "epoch 67 loss 0.3057152032852173 \n",
            "epoch 68 loss 0.3023011386394501 \n",
            "epoch 69 loss 0.29892534017562866 \n",
            "epoch 70 loss 0.2955874800682068 \n",
            "epoch 71 loss 0.2922865152359009 \n",
            "epoch 72 loss 0.28902268409729004 \n",
            "epoch 73 loss 0.28579506278038025 \n",
            "epoch 74 loss 0.28260380029678345 \n",
            "epoch 75 loss 0.2794477343559265 \n",
            "epoch 76 loss 0.27632731199264526 \n",
            "epoch 77 loss 0.27324178814888 \n",
            "epoch 78 loss 0.270190566778183 \n",
            "epoch 79 loss 0.26717326045036316 \n",
            "epoch 80 loss 0.26418963074684143 \n",
            "epoch 81 loss 0.26123955845832825 \n",
            "epoch 82 loss 0.25832244753837585 \n",
            "epoch 83 loss 0.25543782114982605 \n",
            "epoch 84 loss 0.252585232257843 \n",
            "epoch 85 loss 0.24976485967636108 \n",
            "epoch 86 loss 0.24697580933570862 \n",
            "epoch 87 loss 0.2442178726196289 \n",
            "epoch 88 loss 0.2414904683828354 \n",
            "epoch 89 loss 0.23879380524158478 \n",
            "epoch 90 loss 0.23612721264362335 \n",
            "epoch 91 loss 0.23349042236804962 \n",
            "epoch 92 loss 0.23088301718235016 \n",
            "epoch 93 loss 0.22830496728420258 \n",
            "epoch 94 loss 0.22575542330741882 \n",
            "epoch 95 loss 0.22323454916477203 \n",
            "epoch 96 loss 0.2207416146993637 \n",
            "epoch 97 loss 0.2182767689228058 \n",
            "epoch 98 loss 0.21583905816078186 \n",
            "epoch 99 loss 0.2134290486574173 \n",
            "epoch 100 loss 0.21104565262794495 \n"
          ],
          "name": "stdout"
        },
        {
          "output_type": "stream",
          "text": [
            "/usr/local/lib/python3.6/dist-packages/ipykernel_launcher.py:10: UserWarning: invalid index of a 0-dim tensor. This will be an error in PyTorch 0.5. Use tensor.item() to convert a 0-dim tensor to a Python number\n",
            "  # Remove the CWD from sys.path while we load stuff.\n"
          ],
          "name": "stderr"
        }
      ]
    },
    {
      "metadata": {
        "id": "RAhkkPbLWR15",
        "colab_type": "code",
        "colab": {}
      },
      "cell_type": "code",
      "source": [
        "predicted=model(Variable(torch.from_numpy(x_train))).data.numpy()"
      ],
      "execution_count": 0,
      "outputs": []
    },
    {
      "metadata": {
        "id": "o7TYUr1sWjpi",
        "colab_type": "code",
        "colab": {
          "base_uri": "https://localhost:8080/",
          "height": 208
        },
        "outputId": "495a74f6-dac1-4e74-8368-63d59fedc9e2"
      },
      "cell_type": "code",
      "source": [
        "predicted"
      ],
      "execution_count": 27,
      "outputs": [
        {
          "output_type": "execute_result",
          "data": {
            "text/plain": [
              "array([[ 0.14542846],\n",
              "       [ 2.2684944 ],\n",
              "       [ 4.3915606 ],\n",
              "       [ 6.5146265 ],\n",
              "       [ 8.637692  ],\n",
              "       [10.760758  ],\n",
              "       [12.883824  ],\n",
              "       [15.00689   ],\n",
              "       [17.129955  ],\n",
              "       [19.253021  ],\n",
              "       [21.376087  ]], dtype=float32)"
            ]
          },
          "metadata": {
            "tags": []
          },
          "execution_count": 27
        }
      ]
    },
    {
      "metadata": {
        "id": "XTmGFxY2Wk1J",
        "colab_type": "code",
        "colab": {}
      },
      "cell_type": "code",
      "source": [
        ""
      ],
      "execution_count": 0,
      "outputs": []
    }
  ]
}